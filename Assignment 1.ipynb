{
 "cells": [
  {
   "cell_type": "raw",
   "id": "6b6a4e75-61ee-47ed-8b24-354ccda47c6b",
   "metadata": {},
   "source": [
    "# question 1"
   ]
  },
  {
   "cell_type": "code",
   "execution_count": 1,
   "id": "8e41b2e7-32a2-4e25-ab50-d9fe045fdb70",
   "metadata": {},
   "outputs": [
    {
     "name": "stdout",
     "output_type": "stream",
     "text": [
      "Defaulting to user installation because normal site-packages is not writeable\n",
      "Collecting Selenium\n",
      "  Downloading selenium-4.27.1-py3-none-any.whl.metadata (7.1 kB)\n",
      "Requirement already satisfied: urllib3<3,>=1.26 in c:\\programdata\\anaconda3\\lib\\site-packages (from urllib3[socks]<3,>=1.26->Selenium) (2.2.3)\n",
      "Collecting trio~=0.17 (from Selenium)\n",
      "  Downloading trio-0.27.0-py3-none-any.whl.metadata (8.6 kB)\n",
      "Collecting trio-websocket~=0.9 (from Selenium)\n",
      "  Downloading trio_websocket-0.11.1-py3-none-any.whl.metadata (4.7 kB)\n",
      "Requirement already satisfied: certifi>=2021.10.8 in c:\\programdata\\anaconda3\\lib\\site-packages (from Selenium) (2024.8.30)\n",
      "Requirement already satisfied: typing_extensions~=4.9 in c:\\programdata\\anaconda3\\lib\\site-packages (from Selenium) (4.11.0)\n",
      "Requirement already satisfied: websocket-client~=1.8 in c:\\programdata\\anaconda3\\lib\\site-packages (from Selenium) (1.8.0)\n",
      "Collecting attrs>=23.2.0 (from trio~=0.17->Selenium)\n",
      "  Downloading attrs-24.2.0-py3-none-any.whl.metadata (11 kB)\n",
      "Requirement already satisfied: sortedcontainers in c:\\programdata\\anaconda3\\lib\\site-packages (from trio~=0.17->Selenium) (2.4.0)\n",
      "Requirement already satisfied: idna in c:\\programdata\\anaconda3\\lib\\site-packages (from trio~=0.17->Selenium) (3.7)\n",
      "Collecting outcome (from trio~=0.17->Selenium)\n",
      "  Downloading outcome-1.3.0.post0-py2.py3-none-any.whl.metadata (2.6 kB)\n",
      "Requirement already satisfied: sniffio>=1.3.0 in c:\\programdata\\anaconda3\\lib\\site-packages (from trio~=0.17->Selenium) (1.3.0)\n",
      "Requirement already satisfied: cffi>=1.14 in c:\\programdata\\anaconda3\\lib\\site-packages (from trio~=0.17->Selenium) (1.17.1)\n",
      "Collecting wsproto>=0.14 (from trio-websocket~=0.9->Selenium)\n",
      "  Downloading wsproto-1.2.0-py3-none-any.whl.metadata (5.6 kB)\n",
      "Requirement already satisfied: pysocks!=1.5.7,<2.0,>=1.5.6 in c:\\programdata\\anaconda3\\lib\\site-packages (from urllib3[socks]<3,>=1.26->Selenium) (1.7.1)\n",
      "Requirement already satisfied: pycparser in c:\\programdata\\anaconda3\\lib\\site-packages (from cffi>=1.14->trio~=0.17->Selenium) (2.21)\n",
      "Requirement already satisfied: h11<1,>=0.9.0 in c:\\programdata\\anaconda3\\lib\\site-packages (from wsproto>=0.14->trio-websocket~=0.9->Selenium) (0.14.0)\n",
      "Downloading selenium-4.27.1-py3-none-any.whl (9.7 MB)\n",
      "   ---------------------------------------- 0.0/9.7 MB ? eta -:--:--\n",
      "   ---------------------------------------- 0.0/9.7 MB ? eta -:--:--\n",
      "   --- ------------------------------------ 0.8/9.7 MB 3.0 MB/s eta 0:00:03\n",
      "   ------ --------------------------------- 1.6/9.7 MB 3.5 MB/s eta 0:00:03\n",
      "   --------- ------------------------------ 2.4/9.7 MB 3.5 MB/s eta 0:00:03\n",
      "   ------------ --------------------------- 3.1/9.7 MB 3.6 MB/s eta 0:00:02\n",
      "   ---------------- ----------------------- 3.9/9.7 MB 3.6 MB/s eta 0:00:02\n",
      "   ------------------- -------------------- 4.7/9.7 MB 3.7 MB/s eta 0:00:02\n",
      "   ---------------------- ----------------- 5.5/9.7 MB 3.7 MB/s eta 0:00:02\n",
      "   ------------------------- -------------- 6.3/9.7 MB 3.7 MB/s eta 0:00:01\n",
      "   ----------------------------- ---------- 7.1/9.7 MB 3.7 MB/s eta 0:00:01\n",
      "   -------------------------------- ------- 7.9/9.7 MB 3.7 MB/s eta 0:00:01\n",
      "   ----------------------------------- ---- 8.7/9.7 MB 3.7 MB/s eta 0:00:01\n",
      "   ------------------------------------- -- 9.2/9.7 MB 3.7 MB/s eta 0:00:01\n",
      "   ---------------------------------------- 9.7/9.7 MB 3.6 MB/s eta 0:00:00\n",
      "Downloading trio-0.27.0-py3-none-any.whl (481 kB)\n",
      "Downloading trio_websocket-0.11.1-py3-none-any.whl (17 kB)\n",
      "Downloading attrs-24.2.0-py3-none-any.whl (63 kB)\n",
      "Downloading wsproto-1.2.0-py3-none-any.whl (24 kB)\n",
      "Downloading outcome-1.3.0.post0-py2.py3-none-any.whl (10 kB)\n",
      "Installing collected packages: wsproto, attrs, outcome, trio, trio-websocket, Selenium\n",
      "Successfully installed Selenium-4.27.1 attrs-24.2.0 outcome-1.3.0.post0 trio-0.27.0 trio-websocket-0.11.1 wsproto-1.2.0\n"
     ]
    }
   ],
   "source": [
    "! pip install Selenium"
   ]
  },
  {
   "cell_type": "code",
   "execution_count": null,
   "id": "7172118e-4931-4675-9a9d-5db41f2f55a3",
   "metadata": {},
   "outputs": [],
   "source": [
    " # Q1 Scrapes content from a given URL and stores it, choose any URL of your choice.\n",
    " # url ('https://www.naukri.com/')"
   ]
  },
  {
   "cell_type": "code",
   "execution_count": 15,
   "id": "8098586f-2ba1-4b71-9b82-d6e72c9b8f09",
   "metadata": {},
   "outputs": [],
   "source": [
    "\n",
    "from bs4 import BeautifulSoup \n",
    "from selenium import webdriver\n",
    "import pandas as pd\n",
    "import seaborn as sns\n",
    "import warnings \n",
    "warnings.filterwarnings('ignore')\n",
    "from selenium.webdriver.common.by import By\n",
    "import time"
   ]
  },
  {
   "cell_type": "code",
   "execution_count": 17,
   "id": "c25f82c7-b6c5-463f-be37-ed498a4149af",
   "metadata": {},
   "outputs": [],
   "source": [
    "driver=webdriver.Chrome()\n",
    "driver.get('https://www.naukri.com/')\n",
    "expe=[]\n",
    "loc= []\n",
    "start=0\n",
    "end=1\n",
    "expe=[]\n",
    "loc= []\n",
    "job=driver.find_element(By.XPATH,'/html/body/div[1]/div[7]/div/div/div[1]/div/div/div/div[1]/div/input')\n",
    "job.send_keys(\"DATA ANALYST\")\n",
    "time.sleep(5)\n",
    "loca=driver.find_element(By.XPATH,'/html/body/div[1]/div[7]/div/div/div[5]/div/div/div/div[1]/div/input')\n",
    "loca.send_keys(\"BANGALORE\")\n",
    "time.sleep(5)\n",
    "clic=driver.find_element(By.XPATH,'/html/body/div[1]/div[7]/div/div/div[6]')\n",
    "clic.click()\n",
    "time.sleep(5)\n",
    "\n",
    "\n",
    "jobt=[]\n",
    "expe=[]\n",
    "\n",
    "\n",
    "for i in range(start,end):\n",
    "    job=driver.find_elements(By.XPATH,'//a[@class=\"title \"]')\n",
    "    for j in job:\n",
    "        jobt.append(j.text)\n",
    "        time.sleep(5)\n",
    "        \n",
    "    ex=driver.find_elements(By.XPATH,'//span[@class=\"expwdth\"]')\n",
    "    for e in ex :\n",
    "        expe.append(e.text)\n",
    "        time.sleep(10)\n",
    "        \n",
    "        \n",
    "        \n",
    "    nex=driver.find_element(By.XPATH,'/html/body/div/div/main/div[1]/div[2]/div[3]/div/a[2]')\n",
    "    nex.click()\n",
    "    time.sleep(3)\n",
    "        \n",
    "        "
   ]
  },
  {
   "cell_type": "code",
   "execution_count": 19,
   "id": "504f8345-4344-413d-b02e-689f187fee03",
   "metadata": {},
   "outputs": [
    {
     "name": "stdout",
     "output_type": "stream",
     "text": [
      "20 20\n"
     ]
    }
   ],
   "source": [
    "print(len(jobt),len(expe))\n",
    "df=pd.DataFrame({\" job tittle \": jobt,'experience ':expe})"
   ]
  },
  {
   "cell_type": "code",
   "execution_count": 21,
   "id": "74a32473-44a9-404b-8eda-19033f2f62d7",
   "metadata": {},
   "outputs": [
    {
     "data": {
      "text/html": [
       "<div>\n",
       "<style scoped>\n",
       "    .dataframe tbody tr th:only-of-type {\n",
       "        vertical-align: middle;\n",
       "    }\n",
       "\n",
       "    .dataframe tbody tr th {\n",
       "        vertical-align: top;\n",
       "    }\n",
       "\n",
       "    .dataframe thead th {\n",
       "        text-align: right;\n",
       "    }\n",
       "</style>\n",
       "<table border=\"1\" class=\"dataframe\">\n",
       "  <thead>\n",
       "    <tr style=\"text-align: right;\">\n",
       "      <th></th>\n",
       "      <th>job tittle</th>\n",
       "      <th>experience</th>\n",
       "    </tr>\n",
       "  </thead>\n",
       "  <tbody>\n",
       "    <tr>\n",
       "      <th>0</th>\n",
       "      <td>Data Analyst, Climate Program</td>\n",
       "      <td>7-10 Yrs</td>\n",
       "    </tr>\n",
       "    <tr>\n",
       "      <th>1</th>\n",
       "      <td>Data Analyst</td>\n",
       "      <td>0-1 Yrs</td>\n",
       "    </tr>\n",
       "    <tr>\n",
       "      <th>2</th>\n",
       "      <td>Data Analyst</td>\n",
       "      <td>7-10 Yrs</td>\n",
       "    </tr>\n",
       "    <tr>\n",
       "      <th>3</th>\n",
       "      <td>Data Analyst</td>\n",
       "      <td>3-8 Yrs</td>\n",
       "    </tr>\n",
       "    <tr>\n",
       "      <th>4</th>\n",
       "      <td>Data Analyst</td>\n",
       "      <td>0-1 Yrs</td>\n",
       "    </tr>\n",
       "    <tr>\n",
       "      <th>5</th>\n",
       "      <td>Data Analyst- Bangalore</td>\n",
       "      <td>2-4 Yrs</td>\n",
       "    </tr>\n",
       "    <tr>\n",
       "      <th>6</th>\n",
       "      <td>Data Analyst</td>\n",
       "      <td>1-2 Yrs</td>\n",
       "    </tr>\n",
       "    <tr>\n",
       "      <th>7</th>\n",
       "      <td>Data Analyst</td>\n",
       "      <td>2-5 Yrs</td>\n",
       "    </tr>\n",
       "    <tr>\n",
       "      <th>8</th>\n",
       "      <td>Data Verification Analyst</td>\n",
       "      <td>0-5 Yrs</td>\n",
       "    </tr>\n",
       "    <tr>\n",
       "      <th>9</th>\n",
       "      <td>Data Analyst</td>\n",
       "      <td>3-8 Yrs</td>\n",
       "    </tr>\n",
       "    <tr>\n",
       "      <th>10</th>\n",
       "      <td>Data Analyst</td>\n",
       "      <td>0-5 Yrs</td>\n",
       "    </tr>\n",
       "    <tr>\n",
       "      <th>11</th>\n",
       "      <td>FHIR Data Analyst</td>\n",
       "      <td>5-10 Yrs</td>\n",
       "    </tr>\n",
       "    <tr>\n",
       "      <th>12</th>\n",
       "      <td>Client Data Analyst</td>\n",
       "      <td>6-8 Yrs</td>\n",
       "    </tr>\n",
       "    <tr>\n",
       "      <th>13</th>\n",
       "      <td>Environmental, Social &amp; Governance (ESG) Data ...</td>\n",
       "      <td>1-5 Yrs</td>\n",
       "    </tr>\n",
       "    <tr>\n",
       "      <th>14</th>\n",
       "      <td>Data Analyst</td>\n",
       "      <td>2-5 Yrs</td>\n",
       "    </tr>\n",
       "    <tr>\n",
       "      <th>15</th>\n",
       "      <td>Data Analyst</td>\n",
       "      <td>1-5 Yrs</td>\n",
       "    </tr>\n",
       "    <tr>\n",
       "      <th>16</th>\n",
       "      <td>Data Analyst</td>\n",
       "      <td>0-2 Yrs</td>\n",
       "    </tr>\n",
       "    <tr>\n",
       "      <th>17</th>\n",
       "      <td>Data Analyst</td>\n",
       "      <td>0-2 Yrs</td>\n",
       "    </tr>\n",
       "    <tr>\n",
       "      <th>18</th>\n",
       "      <td>BA Data Analyst - Contract - Immediate start</td>\n",
       "      <td>5-6 Yrs</td>\n",
       "    </tr>\n",
       "    <tr>\n",
       "      <th>19</th>\n",
       "      <td>BA Data Analyst - Contract - Immediate start</td>\n",
       "      <td>5-6 Yrs</td>\n",
       "    </tr>\n",
       "  </tbody>\n",
       "</table>\n",
       "</div>"
      ],
      "text/plain": [
       "                                          job tittle  experience \n",
       "0                       Data Analyst, Climate Program    7-10 Yrs\n",
       "1                                        Data Analyst     0-1 Yrs\n",
       "2                                        Data Analyst    7-10 Yrs\n",
       "3                                        Data Analyst     3-8 Yrs\n",
       "4                                        Data Analyst     0-1 Yrs\n",
       "5                             Data Analyst- Bangalore     2-4 Yrs\n",
       "6                                        Data Analyst     1-2 Yrs\n",
       "7                                        Data Analyst     2-5 Yrs\n",
       "8                           Data Verification Analyst     0-5 Yrs\n",
       "9                                        Data Analyst     3-8 Yrs\n",
       "10                                       Data Analyst     0-5 Yrs\n",
       "11                                  FHIR Data Analyst    5-10 Yrs\n",
       "12                                Client Data Analyst     6-8 Yrs\n",
       "13  Environmental, Social & Governance (ESG) Data ...     1-5 Yrs\n",
       "14                                       Data Analyst     2-5 Yrs\n",
       "15                                       Data Analyst     1-5 Yrs\n",
       "16                                       Data Analyst     0-2 Yrs\n",
       "17                                       Data Analyst     0-2 Yrs\n",
       "18       BA Data Analyst - Contract - Immediate start     5-6 Yrs\n",
       "19       BA Data Analyst - Contract - Immediate start     5-6 Yrs"
      ]
     },
     "execution_count": 21,
     "metadata": {},
     "output_type": "execute_result"
    }
   ],
   "source": [
    "df"
   ]
  },
  {
   "cell_type": "code",
   "execution_count": null,
   "id": "519e7cd6-50aa-4eda-a717-aa3029fc4add",
   "metadata": {},
   "outputs": [],
   "source": []
  },
  {
   "cell_type": "code",
   "execution_count": null,
   "id": "15f40583-709a-4897-843e-9a75dd59682a",
   "metadata": {},
   "outputs": [],
   "source": []
  },
  {
   "cell_type": "raw",
   "id": "a37c5362-b762-4bd9-9141-7912f2829c6f",
   "metadata": {},
   "source": [
    "# Q2    Extracts text from an uploaded PDF document and stores it.\n",
    "# document path \"D:\\class record\\Ml.pdf\"  \n"
   ]
  },
  {
   "cell_type": "code",
   "execution_count": 21,
   "id": "d2aeadc6-f095-489e-ac28-17d721015e17",
   "metadata": {},
   "outputs": [
    {
     "name": "stdout",
     "output_type": "stream",
     "text": [
      "Defaulting to user installation because normal site-packages is not writeable\n",
      "Requirement already satisfied: PyPDF2 in c:\\users\\admin\\appdata\\roaming\\python\\python312\\site-packages (3.0.1)\n"
     ]
    }
   ],
   "source": [
    "!pip install PyPDF2\n"
   ]
  },
  {
   "cell_type": "code",
   "execution_count": 23,
   "id": "b142e6cb-5235-4f0f-a8fa-34cf1ba7e153",
   "metadata": {},
   "outputs": [
    {
     "name": "stdout",
     "output_type": "stream",
     "text": [
      "  \n",
      "  \n",
      "• More  \n",
      "Machine Learning Interview Question  \n",
      "Complete & Continue  \n",
      "Enable fullscreen  \n",
      "  \n",
      "1. Explain the basic difference between Supervised, Unsupervised, and Semi -Supervised Machine \n",
      "Learning?  \n",
      "Ans:   \n",
      "Supervised Learning: A model is trained on the labeled data, and then it makes predictions based on \n",
      "the previously labeled data. It requires a supervisor (labels) to train the data. E.g., text classification.  \n",
      "Unsupervised Learning: A model is trained on unlabeled data. The model tri\n"
     ]
    }
   ],
   "source": [
    "import PyPDF2\n",
    "\n",
    "# Function to extract text from a PDF file\n",
    "def extract_text_from_pdf(pdf_path):  \n",
    "    text = \"\"\n",
    "    try:\n",
    "        \n",
    "        with open(pdf_path, \"rb\") as file:\n",
    "            reader = PyPDF2.PdfReader(file)\n",
    "            \n",
    "            for page in reader.pages:\n",
    "                text += page.extract_text()\n",
    "    except Exception as e:\n",
    "        print(f\"An error occurred: {e}\")\n",
    "    return text\n",
    "\n",
    "\n",
    "pdf_path = r\"D:\\class record\\Ml.pdf\"  \n",
    "\n",
    "pdf_text = extract_text_from_pdf(pdf_path)  \n",
    "\n",
    "output_file = \"extracted_text.txt\"\n",
    "with open(output_file, \"w\", encoding=\"utf-8\") as f:\n",
    "    f.write(pdf_text)\n",
    "\n",
    "print(pdf_text[:500])  "
   ]
  },
  {
   "cell_type": "code",
   "execution_count": null,
   "id": "c81ec81b-5f68-40e2-a5bb-3e8a72299ae4",
   "metadata": {},
   "outputs": [],
   "source": []
  },
  {
   "cell_type": "code",
   "execution_count": null,
   "id": "824737f6-d64c-4bd1-98c2-4f10a6d3337a",
   "metadata": {},
   "outputs": [],
   "source": [
    "# Q3   Chat API: Allows users to query the processed content (either from a URL or a PDF) using a chat interface, utilizing embeddings to find relevant responses.\n"
   ]
  },
  {
   "cell_type": "code",
   "execution_count": 27,
   "id": "ffc7481d-ea9e-4042-ba6f-5727ee74e60e",
   "metadata": {},
   "outputs": [
    {
     "name": "stdout",
     "output_type": "stream",
     "text": [
      "Defaulting to user installation because normal site-packages is not writeable\n",
      "Requirement already satisfied: sentence-transformers in c:\\users\\admin\\appdata\\roaming\\python\\python312\\site-packages (3.3.1)\n",
      "Requirement already satisfied: faiss-cpu in c:\\users\\admin\\appdata\\roaming\\python\\python312\\site-packages (1.9.0.post1)\n",
      "Requirement already satisfied: requests in c:\\programdata\\anaconda3\\lib\\site-packages (2.32.3)\n",
      "Requirement already satisfied: beautifulsoup4 in c:\\programdata\\anaconda3\\lib\\site-packages (4.12.3)\n",
      "Requirement already satisfied: transformers<5.0.0,>=4.41.0 in c:\\users\\admin\\appdata\\roaming\\python\\python312\\site-packages (from sentence-transformers) (4.47.0)\n",
      "Requirement already satisfied: tqdm in c:\\programdata\\anaconda3\\lib\\site-packages (from sentence-transformers) (4.66.5)\n",
      "Requirement already satisfied: torch>=1.11.0 in c:\\users\\admin\\appdata\\roaming\\python\\python312\\site-packages (from sentence-transformers) (2.5.1)\n",
      "Requirement already satisfied: scikit-learn in c:\\programdata\\anaconda3\\lib\\site-packages (from sentence-transformers) (1.5.1)\n",
      "Requirement already satisfied: scipy in c:\\programdata\\anaconda3\\lib\\site-packages (from sentence-transformers) (1.13.1)\n",
      "Requirement already satisfied: huggingface-hub>=0.20.0 in c:\\users\\admin\\appdata\\roaming\\python\\python312\\site-packages (from sentence-transformers) (0.26.5)\n",
      "Requirement already satisfied: Pillow in c:\\programdata\\anaconda3\\lib\\site-packages (from sentence-transformers) (10.4.0)\n",
      "Requirement already satisfied: numpy<3.0,>=1.25.0 in c:\\programdata\\anaconda3\\lib\\site-packages (from faiss-cpu) (1.26.4)\n",
      "Requirement already satisfied: packaging in c:\\programdata\\anaconda3\\lib\\site-packages (from faiss-cpu) (24.1)\n",
      "Requirement already satisfied: charset-normalizer<4,>=2 in c:\\programdata\\anaconda3\\lib\\site-packages (from requests) (3.3.2)\n",
      "Requirement already satisfied: idna<4,>=2.5 in c:\\programdata\\anaconda3\\lib\\site-packages (from requests) (3.7)\n",
      "Requirement already satisfied: urllib3<3,>=1.21.1 in c:\\programdata\\anaconda3\\lib\\site-packages (from requests) (2.2.3)\n",
      "Requirement already satisfied: certifi>=2017.4.17 in c:\\programdata\\anaconda3\\lib\\site-packages (from requests) (2024.8.30)\n",
      "Requirement already satisfied: soupsieve>1.2 in c:\\programdata\\anaconda3\\lib\\site-packages (from beautifulsoup4) (2.5)\n",
      "Requirement already satisfied: filelock in c:\\programdata\\anaconda3\\lib\\site-packages (from huggingface-hub>=0.20.0->sentence-transformers) (3.13.1)\n",
      "Requirement already satisfied: fsspec>=2023.5.0 in c:\\programdata\\anaconda3\\lib\\site-packages (from huggingface-hub>=0.20.0->sentence-transformers) (2024.6.1)\n",
      "Requirement already satisfied: pyyaml>=5.1 in c:\\programdata\\anaconda3\\lib\\site-packages (from huggingface-hub>=0.20.0->sentence-transformers) (6.0.1)\n",
      "Requirement already satisfied: typing-extensions>=3.7.4.3 in c:\\programdata\\anaconda3\\lib\\site-packages (from huggingface-hub>=0.20.0->sentence-transformers) (4.11.0)\n",
      "Requirement already satisfied: networkx in c:\\programdata\\anaconda3\\lib\\site-packages (from torch>=1.11.0->sentence-transformers) (3.3)\n",
      "Requirement already satisfied: jinja2 in c:\\programdata\\anaconda3\\lib\\site-packages (from torch>=1.11.0->sentence-transformers) (3.1.4)\n",
      "Requirement already satisfied: setuptools in c:\\programdata\\anaconda3\\lib\\site-packages (from torch>=1.11.0->sentence-transformers) (75.1.0)\n",
      "Requirement already satisfied: sympy==1.13.1 in c:\\users\\admin\\appdata\\roaming\\python\\python312\\site-packages (from torch>=1.11.0->sentence-transformers) (1.13.1)\n",
      "Requirement already satisfied: mpmath<1.4,>=1.1.0 in c:\\programdata\\anaconda3\\lib\\site-packages (from sympy==1.13.1->torch>=1.11.0->sentence-transformers) (1.3.0)\n",
      "Requirement already satisfied: colorama in c:\\programdata\\anaconda3\\lib\\site-packages (from tqdm->sentence-transformers) (0.4.6)\n",
      "Requirement already satisfied: regex!=2019.12.17 in c:\\programdata\\anaconda3\\lib\\site-packages (from transformers<5.0.0,>=4.41.0->sentence-transformers) (2024.9.11)\n",
      "Requirement already satisfied: tokenizers<0.22,>=0.21 in c:\\users\\admin\\appdata\\roaming\\python\\python312\\site-packages (from transformers<5.0.0,>=4.41.0->sentence-transformers) (0.21.0)\n",
      "Requirement already satisfied: safetensors>=0.4.1 in c:\\users\\admin\\appdata\\roaming\\python\\python312\\site-packages (from transformers<5.0.0,>=4.41.0->sentence-transformers) (0.4.5)\n",
      "Requirement already satisfied: joblib>=1.2.0 in c:\\programdata\\anaconda3\\lib\\site-packages (from scikit-learn->sentence-transformers) (1.4.2)\n",
      "Requirement already satisfied: threadpoolctl>=3.1.0 in c:\\programdata\\anaconda3\\lib\\site-packages (from scikit-learn->sentence-transformers) (3.5.0)\n",
      "Requirement already satisfied: MarkupSafe>=2.0 in c:\\programdata\\anaconda3\\lib\\site-packages (from jinja2->torch>=1.11.0->sentence-transformers) (2.1.3)\n"
     ]
    }
   ],
   "source": [
    "!pip install sentence-transformers faiss-cpu requests beautifulsoup4"
   ]
  },
  {
   "cell_type": "code",
   "execution_count": null,
   "id": "034676b7-de24-47b2-9fef-389c638f8873",
   "metadata": {},
   "outputs": [],
   "source": [
    "from sentence_transformers import SentenceTransformer, util\n",
    "import numpy as np\n",
    "import PyPDF2\n",
    "\n",
    "\n",
    "model = SentenceTransformer('all-MiniLM-L6-v2')\n",
    "\n",
    "\n",
    "def extract_text_from_pdf(pdf_path):\n",
    "    extracted_text = \"\"\n",
    "    try:\n",
    "        with open(pdf_path, 'rb') as file:\n",
    "            pdf_reader = PyPDF2.PdfReader(file)\n",
    "            for page in pdf_reader.pages:\n",
    "                extracted_text += page.extract_text()\n",
    "    except Exception as e:\n",
    "        print(f\"Error reading PDF: {e}\")\n",
    "    return extracted_text\n",
    "\n",
    "def preprocess_text(text):\n",
    "    sentences = text.split('. ')  \n",
    "    return [sentence.strip() for sentence in sentences if sentence.strip()]  \n",
    "\n",
    "def query_content(user_query, content_embeddings, stored_sentences):\n",
    "    \n",
    "    query_embedding = model.encode(user_query, convert_to_tensor=True)\n",
    "    \n",
    "    \n",
    "    similarities = util.cos_sim(query_embedding, content_embeddings)[0]\n",
    "    \n",
    "    \n",
    "    most_similar_idx = np.argmax(similarities)\n",
    "    \n",
    "    \n",
    "    most_relevant_content = stored_sentences[most_similar_idx]\n",
    "    similarity_score = similarities[most_similar_idx].item()\n",
    "    \n",
    "    return most_relevant_content, similarity_score\n",
    "\n",
    "pdf_path = r\"D:\\class record\\Ml.pdf\"  \n",
    "\n",
    "pdf_text = extract_text_from_pdf(pdf_path)\n",
    "stored_sentences = preprocess_text(pdf_text)\n",
    "\n",
    "content_embeddings = model.encode(stored_sentences, convert_to_tensor=True)\n",
    "\n",
    "print(\"Chatbot is ready! Type 'exit' to quit.\\n\")\n",
    "while True:\n",
    "    user_query = input(\"You: \")\n",
    "    if user_query.lower() == \"exit\":\n",
    "        print(\"Chatbot: Goodbye!\")\n",
    "        break\n",
    "\n",
    "    \n",
    "    relevant_content, score = query_content(user_query, content_embeddings, stored_sentences)\n",
    "    \n",
    "    \n",
    "    print(f\"Chatbot: {relevant_content} (Similarity Score: {score:.2f})\")\n"
   ]
  },
  {
   "cell_type": "code",
   "execution_count": null,
   "id": "07b6af9c-6305-40ea-99ca-ed73cafffde7",
   "metadata": {},
   "outputs": [],
   "source": []
  },
  {
   "cell_type": "code",
   "execution_count": null,
   "id": "6b0a9e5a-8445-44f7-9a51-74de241af444",
   "metadata": {},
   "outputs": [],
   "source": []
  },
  {
   "cell_type": "code",
   "execution_count": null,
   "id": "e866b1fa-17d8-48d2-a51a-43c6669d3c74",
   "metadata": {},
   "outputs": [],
   "source": []
  },
  {
   "cell_type": "code",
   "execution_count": null,
   "id": "6253207f-61d9-4273-b3c3-e9b58f0e674c",
   "metadata": {},
   "outputs": [],
   "source": []
  },
  {
   "cell_type": "code",
   "execution_count": null,
   "id": "54237afa-758f-4691-81c4-c0d4657c99ba",
   "metadata": {},
   "outputs": [],
   "source": []
  },
  {
   "cell_type": "code",
   "execution_count": null,
   "id": "6c1f4369-1df5-47ec-9c61-c342cf549687",
   "metadata": {},
   "outputs": [],
   "source": []
  },
  {
   "cell_type": "code",
   "execution_count": null,
   "id": "a2572cbf-6fcc-45d8-a280-9773ec7a19d9",
   "metadata": {},
   "outputs": [],
   "source": []
  },
  {
   "cell_type": "code",
   "execution_count": null,
   "id": "2d64ef41-6c3e-4859-b046-a26850bec07b",
   "metadata": {},
   "outputs": [],
   "source": []
  },
  {
   "cell_type": "code",
   "execution_count": null,
   "id": "230a93ff-2bd3-4771-a5c4-c355eac349f8",
   "metadata": {},
   "outputs": [],
   "source": []
  },
  {
   "cell_type": "code",
   "execution_count": null,
   "id": "b8ef0b95-bd92-4e6d-ab6d-057ebed207a2",
   "metadata": {},
   "outputs": [],
   "source": []
  },
  {
   "cell_type": "code",
   "execution_count": null,
   "id": "41793001-c1d4-45f1-b321-091ff8dcac01",
   "metadata": {},
   "outputs": [],
   "source": []
  },
  {
   "cell_type": "code",
   "execution_count": null,
   "id": "fb7a8ec5-5fa4-4e60-870b-db0abb0d7644",
   "metadata": {},
   "outputs": [],
   "source": []
  },
  {
   "cell_type": "code",
   "execution_count": null,
   "id": "00949f9f-1d40-41c7-a307-02cc9b42d8e5",
   "metadata": {},
   "outputs": [],
   "source": []
  },
  {
   "cell_type": "code",
   "execution_count": null,
   "id": "55c09ec2-f29b-4b45-9a54-de1c3a89d4f1",
   "metadata": {},
   "outputs": [],
   "source": []
  },
  {
   "cell_type": "code",
   "execution_count": null,
   "id": "7f066ac7-196d-4e6e-a0eb-e94fc7a34499",
   "metadata": {},
   "outputs": [],
   "source": []
  },
  {
   "cell_type": "code",
   "execution_count": null,
   "id": "0ec78a2c-2bcd-4c3d-a0dd-2d99e4463ad7",
   "metadata": {},
   "outputs": [],
   "source": []
  },
  {
   "cell_type": "code",
   "execution_count": null,
   "id": "ad54106e-c1a0-487a-8a7b-9af856535da5",
   "metadata": {},
   "outputs": [],
   "source": []
  },
  {
   "cell_type": "code",
   "execution_count": null,
   "id": "fcd69d31-7e11-4858-8464-d772539832e0",
   "metadata": {},
   "outputs": [],
   "source": []
  },
  {
   "cell_type": "code",
   "execution_count": null,
   "id": "29492239-0722-4cc6-8546-d378a46a3f8e",
   "metadata": {},
   "outputs": [],
   "source": []
  },
  {
   "cell_type": "code",
   "execution_count": null,
   "id": "b4f8a23a-8dab-41f2-b133-fc2ccbc41f4a",
   "metadata": {},
   "outputs": [],
   "source": []
  },
  {
   "cell_type": "code",
   "execution_count": null,
   "id": "60d495f9-c454-49d5-80d1-9878249e6428",
   "metadata": {},
   "outputs": [],
   "source": []
  },
  {
   "cell_type": "code",
   "execution_count": null,
   "id": "1bad595b-81a4-4a3a-9648-c8c65ae03bf5",
   "metadata": {},
   "outputs": [],
   "source": []
  },
  {
   "cell_type": "code",
   "execution_count": null,
   "id": "6857eb63-0cf4-4175-ae39-21f53f7dd1fc",
   "metadata": {},
   "outputs": [],
   "source": []
  },
  {
   "cell_type": "code",
   "execution_count": null,
   "id": "1f0529c5-4e10-4c87-ba79-5454ce83bf4e",
   "metadata": {},
   "outputs": [],
   "source": []
  },
  {
   "cell_type": "code",
   "execution_count": null,
   "id": "c3baed77-93da-4deb-a418-01a695428535",
   "metadata": {},
   "outputs": [],
   "source": []
  },
  {
   "cell_type": "code",
   "execution_count": null,
   "id": "581abcfa-94a4-4244-9a62-8f75932ddc09",
   "metadata": {},
   "outputs": [],
   "source": []
  },
  {
   "cell_type": "code",
   "execution_count": null,
   "id": "26816228-9d30-4f8a-9f0b-6b7f71ddbf39",
   "metadata": {},
   "outputs": [],
   "source": []
  },
  {
   "cell_type": "code",
   "execution_count": null,
   "id": "68dc102f-e65f-4f87-8787-d6036abc915b",
   "metadata": {},
   "outputs": [],
   "source": []
  },
  {
   "cell_type": "code",
   "execution_count": null,
   "id": "e54cae0a-745b-4b5b-9a1c-ccafd22def56",
   "metadata": {},
   "outputs": [],
   "source": []
  },
  {
   "cell_type": "code",
   "execution_count": null,
   "id": "ea797158-a350-47dd-bb9d-d67f05d3f692",
   "metadata": {},
   "outputs": [],
   "source": []
  },
  {
   "cell_type": "code",
   "execution_count": null,
   "id": "7dd961be-5583-41c9-80df-f32f99fb5545",
   "metadata": {},
   "outputs": [],
   "source": []
  },
  {
   "cell_type": "code",
   "execution_count": null,
   "id": "b33e32a1-be6a-4013-9d70-0250107ec22c",
   "metadata": {},
   "outputs": [],
   "source": []
  },
  {
   "cell_type": "code",
   "execution_count": null,
   "id": "bfb2c0d8-aa1f-4195-99a0-587b5d0d03e6",
   "metadata": {},
   "outputs": [],
   "source": []
  },
  {
   "cell_type": "code",
   "execution_count": null,
   "id": "ca03ef4b-9b24-4bb6-92e2-48be945a73d5",
   "metadata": {},
   "outputs": [],
   "source": []
  },
  {
   "cell_type": "code",
   "execution_count": null,
   "id": "46e0948c-bf83-4a08-b4e9-52fdd70fe8b3",
   "metadata": {},
   "outputs": [],
   "source": []
  },
  {
   "cell_type": "code",
   "execution_count": null,
   "id": "2b5cea57-8b7e-4dd0-b57a-3d95b0839f12",
   "metadata": {},
   "outputs": [],
   "source": []
  },
  {
   "cell_type": "code",
   "execution_count": null,
   "id": "abd92124-e971-4c7d-88fc-e98d9b988d2f",
   "metadata": {},
   "outputs": [],
   "source": []
  },
  {
   "cell_type": "code",
   "execution_count": null,
   "id": "182aba89-85c1-498f-8e61-8f5c2e7b7d55",
   "metadata": {},
   "outputs": [],
   "source": []
  },
  {
   "cell_type": "code",
   "execution_count": null,
   "id": "b0c7845d-030d-436c-a9c3-2334d0f90780",
   "metadata": {},
   "outputs": [],
   "source": []
  }
 ],
 "metadata": {
  "kernelspec": {
   "display_name": "Python [conda env:base] *",
   "language": "python",
   "name": "conda-base-py"
  },
  "language_info": {
   "codemirror_mode": {
    "name": "ipython",
    "version": 3
   },
   "file_extension": ".py",
   "mimetype": "text/x-python",
   "name": "python",
   "nbconvert_exporter": "python",
   "pygments_lexer": "ipython3",
   "version": "3.12.7"
  }
 },
 "nbformat": 4,
 "nbformat_minor": 5
}
